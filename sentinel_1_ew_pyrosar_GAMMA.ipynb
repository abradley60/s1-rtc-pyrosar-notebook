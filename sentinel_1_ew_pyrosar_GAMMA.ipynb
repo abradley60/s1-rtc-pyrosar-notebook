{
 "cells": [
  {
   "cell_type": "markdown",
   "metadata": {},
   "source": [
    "# Sentinel-1 EW RTC with pyroSAR (GAMMA)\n",
    "\n",
    "This notebook is designed to be used on the National Computational Infrastructure (NCI) only, due to its use of the licensed GAMMA software.\n",
    "\n",
    "The NCI project folder has the required symlinks for the GAMMA binaries. \n",
    "\n",
    "PyroSAR's GAMMA Python API must be built before running. Please run [initialise_gamma.py](initialise_gamma.py) after loading the conda environment for this project. This needs to be done only once.\n",
    "\n",
    "**Requirements**\n",
    "- A conda environment setup as described in the *README.md*\n",
    "- Appropriate storage space\n",
    "- Access to dg9 project on NCI\n",
    "- Credentials for usgs (https://urs.earthdata.nasa.gov/users/new) \n",
    "- Credentials for copernicus CDSE ( https://dataspace.copernicus.eu/)"
   ]
  },
  {
   "cell_type": "markdown",
   "metadata": {},
   "source": [
    "## Imports"
   ]
  },
  {
   "cell_type": "code",
   "execution_count": null,
   "metadata": {},
   "outputs": [],
   "source": [
    "import logging\n",
    "import sys\n",
    "\n",
    "logging.basicConfig(\n",
    "    format=\"%(asctime)s | %(levelname)s : %(message)s\",\n",
    "    level=logging.INFO,\n",
    "    stream=sys.stdout,\n",
    ")\n",
    "\n",
    "log = logging.getLogger(\"gammapy\")\n",
    "log.setLevel(logging.INFO)"
   ]
  },
  {
   "cell_type": "code",
   "execution_count": null,
   "metadata": {},
   "outputs": [],
   "source": [
    "import asf_search as asf\n",
    "import os\n",
    "import yaml\n",
    "from pyroSAR import identify\n",
    "from pyroSAR.gamma import geocode\n",
    "from pyroSAR.gamma.api import diff\n",
    "from pathlib import Path\n",
    "\n",
    "import logging\n",
    "import sys"
   ]
  },
  {
   "cell_type": "markdown",
   "metadata": {},
   "source": [
    "## Settings"
   ]
  },
  {
   "cell_type": "markdown",
   "metadata": {},
   "source": [
    "### Paths"
   ]
  },
  {
   "cell_type": "code",
   "execution_count": null,
   "metadata": {},
   "outputs": [],
   "source": [
    "REPO_DIR = Path(\"/g/data/yp75/projects/pyrosar_processing/s1-rtc-pyrosar-notebook\").resolve()\n",
    "PROJ_DIR = REPO_DIR.parent\n",
    "DATA_DIR = PROJ_DIR.joinpath(\"data\")\n",
    "CRED_DIR = REPO_DIR.joinpath(\"credentials\")\n",
    "SCENE_DIR = DATA_DIR.joinpath(\"scenes/ASF\")\n",
    "RESULTS_DIR = DATA_DIR.joinpath(\"results\")\n",
    "DEM_DIR = DATA_DIR.joinpath(\"dem\")\n",
    "TEMP_DIR = SCENE_DIR.joinpath(\"unzipped_scenes\")\n",
    "LOG_DIR = DATA_DIR.joinpath(\"logs\")\n",
    "ORBIT_DIR = DATA_DIR.joinpath(\"orbits\")"
   ]
  },
  {
   "cell_type": "markdown",
   "metadata": {},
   "source": [
    "#### Create paths if not exist"
   ]
  },
  {
   "cell_type": "code",
   "execution_count": null,
   "metadata": {},
   "outputs": [],
   "source": [
    "directories_list = [val for key,val in locals().items() if \"DIR\" in key]\n",
    "\n",
    "create_dirs = True\n",
    "if create_dirs:\n",
    "    for directory in directories_list:\n",
    "        print(directory)\n",
    "        directory.parent.mkdir(parents=True, exist_ok=True)\n"
   ]
  },
  {
   "cell_type": "markdown",
   "metadata": {},
   "source": [
    "### GAMMA Environment Variables"
   ]
  },
  {
   "cell_type": "code",
   "execution_count": null,
   "metadata": {},
   "outputs": [],
   "source": [
    "GAMMA_HOME_PATH = \"/g/data/dg9/GAMMA/GAMMA_SOFTWARE-20230712\"\n",
    "\n",
    "gamma_env_value = os.environ.get(\"GAMMA_HOME\", None)\n",
    "\n",
    "if gamma_env_value is None:\n",
    "        os.environ[\"GAMMA_HOME\"] = GAMMA_HOME_PATH\n",
    "        gamma_env_value = os.environ[\"GAMMA_HOME\"]"
   ]
  },
  {
   "cell_type": "markdown",
   "metadata": {},
   "source": [
    "### Shared Objects Environment Variable\n",
    "Important to check the current directory for symlinks to gdal and fftw3, which are required to run the GAMMA binaries"
   ]
  },
  {
   "cell_type": "code",
   "execution_count": null,
   "metadata": {},
   "outputs": [],
   "source": [
    "REQUIRED_LIBS_PATH = \"/g/data/yp75/projects/pyrosar_processing/s1-rtc-pyrosar-notebook:/apps/fftw3/3.3.10/lib:/apps/gdal/3.6.4/lib64\"\n",
    "\n",
    "ld_lib_env_value = os.environ.get(\"LD_LIBRARY_PATH\", None)\n",
    "\n",
    "if ld_lib_env_value is None:\n",
    "        os.environ[\"LD_LIBRARY_PATH\"] = REQUIRED_LIBS_PATH\n",
    "        ld_lib_env_value = os.environ[\"LD_LIBRARY_PATH\"]"
   ]
  },
  {
   "cell_type": "markdown",
   "metadata": {},
   "source": [
    "### Credentials information"
   ]
  },
  {
   "cell_type": "code",
   "execution_count": null,
   "metadata": {},
   "outputs": [],
   "source": [
    "EARTHDATA_CREDS_PATH = CRED_DIR.joinpath(\"credentials_earthdata.yaml\")"
   ]
  },
  {
   "cell_type": "markdown",
   "metadata": {},
   "source": [
    "### Scene information"
   ]
  },
  {
   "cell_type": "code",
   "execution_count": null,
   "metadata": {},
   "outputs": [],
   "source": [
    "SCENE_ID = \"S1A_EW_GRDM_1SDH_20220117T122010_20220117T122115_041500_04EF6B_6437\"\n",
    "MODE = \"EW\"\n",
    "PRODUCT = \"GRD_MD\"\n",
    "\n",
    "scene_zip = SCENE_DIR.joinpath(f\"{SCENE_ID}.zip\")"
   ]
  },
  {
   "cell_type": "markdown",
   "metadata": {},
   "source": [
    "### Existing DEM and DEM settings"
   ]
  },
  {
   "cell_type": "code",
   "execution_count": null,
   "metadata": {},
   "outputs": [],
   "source": [
    "dem = DEM_DIR.joinpath(f\"{SCENE_ID}_dem\") # Binary format, used by GAMMA\n",
    "dem_src = DEM_DIR.joinpath(f\"{SCENE_ID}_dem.tif\") # Source file, GeoTIFF\n",
    "dem_gamma = DEM_DIR.joinpath(f\"{SCENE_ID}_dem.par\") # GAMMA Parameter file"
   ]
  },
  {
   "cell_type": "markdown",
   "metadata": {},
   "source": [
    "## Processing"
   ]
  },
  {
   "cell_type": "code",
   "execution_count": null,
   "metadata": {},
   "outputs": [],
   "source": [
    "# get scene metadata\n",
    "if scene_zip.exists():\n",
    "    pyrosar_scene_id = identify(scene_zip)\n",
    "else:\n",
    "    print(\"Scene not available, download first\")"
   ]
  },
  {
   "cell_type": "markdown",
   "metadata": {},
   "source": [
    "### DEM creation\n",
    "GAMMA requires specific file formats, and pyroSAR currently provides this\n",
    "through dem_autocreate, which does involve doing download of DEM files"
   ]
  },
  {
   "cell_type": "code",
   "execution_count": null,
   "metadata": {},
   "outputs": [],
   "source": [
    "if dem_gamma.exists():\n",
    "    log.info(\"DEM exists\")\n",
    "    pass\n",
    "else:\n",
    "    geoid_str = 'EGM2008' # suggested in dem_autocreate for copernicus 30m dem\n",
    "    geoid_path = Path(GAMMA_HOME_PATH).joinpath('DIFF/scripts/egm2008-5.dem')\n",
    "    # Function\n",
    "    log.info(\"running DEM\")\n",
    "    diff.dem_import(\n",
    "        input_DEM=str(dem_src), \n",
    "        DEM=str(dem),\n",
    "        DEM_par=str(dem_gamma),\n",
    "        no_data=-9999,\n",
    "        geoid=geoid_path, \n",
    "        logpath=str(LOG_DIR), \n",
    "        outdir=str(DEM_DIR)\n",
    "    )\n",
    "    log.info(\"finished DEM\")"
   ]
  },
  {
   "cell_type": "markdown",
   "metadata": {},
   "source": [
    "### GAMMA Geocode"
   ]
  },
  {
   "cell_type": "code",
   "execution_count": null,
   "metadata": {},
   "outputs": [],
   "source": [
    "# Settings\n",
    "spacing = 40\n",
    "scaling = 'linear' # scale of final product, linear, db\n",
    "refarea = 'gamma0' # e.g. gamma0, sigma0, beta0 or ['gamma0','sigma0']"
   ]
  },
  {
   "cell_type": "code",
   "execution_count": null,
   "metadata": {},
   "outputs": [],
   "source": [
    "log.info(\"running geocode\")\n",
    "geocode(\n",
    "    scene=pyrosar_scene_id, \n",
    "    dem=str(dem), \n",
    "    tmpdir=str(TEMP_DIR),\n",
    "    outdir=str(RESULTS_DIR), \n",
    "    spacing=spacing, \n",
    "    scaling=scaling, \n",
    "    func_geoback=1,\n",
    "    nodata=(0, -99), \n",
    "    update_osv=True, \n",
    "    osvdir=ORBIT_DIR, \n",
    "    allow_RES_OSV=True,\n",
    "    cleanup=False, \n",
    "    export_extra=None, \n",
    "    basename_extensions=None,\n",
    "    removeS1BorderNoiseMethod='gamma', \n",
    "    refine_lut=False, \n",
    "    rlks=None, \n",
    "    azlks=None,\n",
    "    s1_osv_url_option=1\n",
    ")\n",
    "log.info(\"finished geocode\")"
   ]
  }
 ],
 "metadata": {
  "kernelspec": {
   "display_name": "Python 3",
   "language": "python",
   "name": "python3"
  },
  "language_info": {
   "codemirror_mode": {
    "name": "ipython",
    "version": 3
   },
   "file_extension": ".py",
   "mimetype": "text/x-python",
   "name": "python",
   "nbconvert_exporter": "python",
   "pygments_lexer": "ipython3",
   "version": "3.10.14"
  }
 },
 "nbformat": 4,
 "nbformat_minor": 4
}
